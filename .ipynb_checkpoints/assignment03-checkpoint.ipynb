{
 "cells": [
  {
   "cell_type": "code",
   "execution_count": 1,
   "id": "fddee914",
   "metadata": {},
   "outputs": [],
   "source": [
    "import pandas as pd\n",
    "import numpy as np\n",
    "from sklearn.datasets import fetch_olivetti_faces\n",
    "\n",
    "X,y = fetch_olivetti_faces(return_X_y=True)"
   ]
  },
  {
   "cell_type": "code",
   "execution_count": 2,
   "id": "aa1501eb",
   "metadata": {},
   "outputs": [],
   "source": [
    "from sklearn.model_selection import train_test_split\n",
    "# Given the scarcity of the dataset, an 80-20 ratio for train/test will be considered.\n",
    "X_train, X_test, y_train, y_test = train_test_split(X, y, test_size=0.2, shuffle=True,random_state=42,stratify=y)"
   ]
  },
  {
   "cell_type": "code",
   "execution_count": 3,
   "id": "46e18fc2",
   "metadata": {
    "scrolled": true
   },
   "outputs": [
    {
     "name": "stdout",
     "output_type": "stream",
     "text": [
      "0.925\n",
      "0.975\n",
      "0.95\n",
      "0.925\n",
      "0.925\n",
      "0.975\n",
      "0.95\n",
      "0.875\n",
      "Average score: 0.9375\n"
     ]
    }
   ],
   "source": [
    "from sklearn.model_selection import StratifiedKFold\n",
    "from sklearn.neural_network import MLPClassifier\n",
    "from sklearn.metrics import accuracy_score\n",
    "from sklearn.pipeline import Pipeline\n",
    "from sklearn.preprocessing import StandardScaler\n",
    "\n",
    "# With 8 samples available for each person for training, We set the n_splits=8 , so for each split, we'll\n",
    "# have 7 records per person to train and 1 record to validate with.\n",
    "skf = StratifiedKFold(n_splits=8,shuffle=True,random_state=42)\n",
    "clf = Pipeline([\n",
    "    (\"scaler\", StandardScaler()),\n",
    "    (\"nn\", MLPClassifier(solver='adam', activation='tanh',hidden_layer_sizes=(80,60,40,40), random_state=42,max_iter=2000))\n",
    "])\n",
    "\n",
    "scores = []\n",
    "for train_index, test_index in skf.split(X_train,y_train):\n",
    "    X_train_batch, X_test_batch = X_train[train_index], X_train[test_index]\n",
    "    y_train_batch, y_test_batch = y_train[train_index], y_train[test_index]\n",
    "    clf.fit(X_train_batch,y_train_batch)\n",
    "    pred = clf.predict(X_test_batch)\n",
    "    score = accuracy_score(y_test_batch, pred)\n",
    "    scores.append(score)\n",
    "    print(score)\n",
    "    \n",
    "print(f'Average score: {np.mean(scores)}')"
   ]
  },
  {
   "cell_type": "code",
   "execution_count": 4,
   "id": "1aabad20",
   "metadata": {},
   "outputs": [],
   "source": [
    "pred = clf.predict(X_test)\n",
    "score = accuracy_score(y_test, pred)"
   ]
  },
  {
   "cell_type": "code",
   "execution_count": 5,
   "id": "58c9a710",
   "metadata": {
    "scrolled": false
   },
   "outputs": [
    {
     "data": {
      "text/plain": [
       "0.9375"
      ]
     },
     "execution_count": 5,
     "metadata": {},
     "output_type": "execute_result"
    }
   ],
   "source": [
    "score"
   ]
  },
  {
   "cell_type": "code",
   "execution_count": 6,
   "id": "c65dbb51",
   "metadata": {
    "scrolled": false
   },
   "outputs": [
    {
     "data": {
      "text/plain": [
       "(400, 4096)"
      ]
     },
     "execution_count": 6,
     "metadata": {},
     "output_type": "execute_result"
    }
   ],
   "source": [
    "X.shape"
   ]
  },
  {
   "cell_type": "code",
   "execution_count": 7,
   "id": "19ec07c2",
   "metadata": {
    "scrolled": false
   },
   "outputs": [],
   "source": [
    "from sklearn.metrics import silhouette_samples, silhouette_score\n",
    "from scipy.cluster.hierarchy import linkage,fcluster\n",
    "from sklearn.cluster import FeatureAgglomeration\n",
    "\n",
    "range_n_clusters = range(2,400,5)\n",
    "\n",
    "def clusterize(metric,method):\n",
    "    silhouette_scores = {}\n",
    "    for n_clusters in range_n_clusters:\n",
    "        matrix = linkage(X,metric=metric, method=method)\n",
    "        cluster_labels = fcluster(matrix,t=n_clusters,criterion=\"maxclust\")\n",
    "        silhouette_scores[n_clusters] = silhouette_score(X, cluster_labels)\n",
    "    best_num_clusters = max(silhouette_scores, key=silhouette_scores.get)\n",
    "    print(f'optimal # of clusters for linkage with metric={metric} and method={method}: {best_num_clusters}')\n",
    "    model = FeatureAgglomeration(\n",
    "        n_clusters=best_num_clusters,\n",
    "        affinity=metric,\n",
    "        linkage=\"average\"\n",
    "    )\n",
    "    return model"
   ]
  },
  {
   "cell_type": "code",
   "execution_count": 8,
   "id": "0d4a0ca5",
   "metadata": {
    "scrolled": true
   },
   "outputs": [
    {
     "name": "stdout",
     "output_type": "stream",
     "text": [
      "optimal # of clusters for linkage with metric=euclidean and method=centroid: 237\n"
     ]
    }
   ],
   "source": [
    "euclidean = clusterize(metric=\"euclidean\", method=\"centroid\")"
   ]
  },
  {
   "cell_type": "code",
   "execution_count": 9,
   "id": "d00af797",
   "metadata": {
    "scrolled": false
   },
   "outputs": [
    {
     "name": "stdout",
     "output_type": "stream",
     "text": [
      "optimal # of clusters for linkage with metric=minkowski and method=average: 2\n"
     ]
    }
   ],
   "source": [
    "minkowski = clusterize(metric=\"minkowski\", method=\"average\")"
   ]
  },
  {
   "cell_type": "code",
   "execution_count": 10,
   "id": "c25f0ec7",
   "metadata": {
    "scrolled": false
   },
   "outputs": [
    {
     "name": "stdout",
     "output_type": "stream",
     "text": [
      "optimal # of clusters for linkage with metric=cosine and method=average: 197\n"
     ]
    }
   ],
   "source": [
    "cosine = clusterize(metric=\"cosine\", method=\"average\")"
   ]
  },
  {
   "cell_type": "code",
   "execution_count": 17,
   "id": "fdc2e638",
   "metadata": {},
   "outputs": [
    {
     "name": "stdout",
     "output_type": "stream",
     "text": [
      "evaluating scores or metric = euclidean\n",
      "0.875\n",
      "0.95\n",
      "0.95\n",
      "0.825\n",
      "0.95\n",
      "1.0\n",
      "0.925\n",
      "0.925\n",
      "Average score: 0.9249999999999999\n",
      "evaluating scores or metric = minkowski\n"
     ]
    },
    {
     "name": "stderr",
     "output_type": "stream",
     "text": [
      "C:\\Users\\Shayan\\anaconda3\\lib\\site-packages\\sklearn\\neural_network\\_multilayer_perceptron.py:614: ConvergenceWarning: Stochastic Optimizer: Maximum iterations (1000) reached and the optimization hasn't converged yet.\n",
      "  warnings.warn(\n"
     ]
    },
    {
     "name": "stdout",
     "output_type": "stream",
     "text": [
      "0.275\n"
     ]
    },
    {
     "name": "stderr",
     "output_type": "stream",
     "text": [
      "C:\\Users\\Shayan\\anaconda3\\lib\\site-packages\\sklearn\\neural_network\\_multilayer_perceptron.py:614: ConvergenceWarning: Stochastic Optimizer: Maximum iterations (1000) reached and the optimization hasn't converged yet.\n",
      "  warnings.warn(\n"
     ]
    },
    {
     "name": "stdout",
     "output_type": "stream",
     "text": [
      "0.3\n"
     ]
    },
    {
     "name": "stderr",
     "output_type": "stream",
     "text": [
      "C:\\Users\\Shayan\\anaconda3\\lib\\site-packages\\sklearn\\neural_network\\_multilayer_perceptron.py:614: ConvergenceWarning: Stochastic Optimizer: Maximum iterations (1000) reached and the optimization hasn't converged yet.\n",
      "  warnings.warn(\n"
     ]
    },
    {
     "name": "stdout",
     "output_type": "stream",
     "text": [
      "0.375\n"
     ]
    },
    {
     "name": "stderr",
     "output_type": "stream",
     "text": [
      "C:\\Users\\Shayan\\anaconda3\\lib\\site-packages\\sklearn\\neural_network\\_multilayer_perceptron.py:614: ConvergenceWarning: Stochastic Optimizer: Maximum iterations (1000) reached and the optimization hasn't converged yet.\n",
      "  warnings.warn(\n"
     ]
    },
    {
     "name": "stdout",
     "output_type": "stream",
     "text": [
      "0.225\n"
     ]
    },
    {
     "name": "stderr",
     "output_type": "stream",
     "text": [
      "C:\\Users\\Shayan\\anaconda3\\lib\\site-packages\\sklearn\\neural_network\\_multilayer_perceptron.py:614: ConvergenceWarning: Stochastic Optimizer: Maximum iterations (1000) reached and the optimization hasn't converged yet.\n",
      "  warnings.warn(\n"
     ]
    },
    {
     "name": "stdout",
     "output_type": "stream",
     "text": [
      "0.425\n"
     ]
    },
    {
     "name": "stderr",
     "output_type": "stream",
     "text": [
      "C:\\Users\\Shayan\\anaconda3\\lib\\site-packages\\sklearn\\neural_network\\_multilayer_perceptron.py:614: ConvergenceWarning: Stochastic Optimizer: Maximum iterations (1000) reached and the optimization hasn't converged yet.\n",
      "  warnings.warn(\n"
     ]
    },
    {
     "name": "stdout",
     "output_type": "stream",
     "text": [
      "0.45\n"
     ]
    },
    {
     "name": "stderr",
     "output_type": "stream",
     "text": [
      "C:\\Users\\Shayan\\anaconda3\\lib\\site-packages\\sklearn\\neural_network\\_multilayer_perceptron.py:614: ConvergenceWarning: Stochastic Optimizer: Maximum iterations (1000) reached and the optimization hasn't converged yet.\n",
      "  warnings.warn(\n"
     ]
    },
    {
     "name": "stdout",
     "output_type": "stream",
     "text": [
      "0.4\n"
     ]
    },
    {
     "name": "stderr",
     "output_type": "stream",
     "text": [
      "C:\\Users\\Shayan\\anaconda3\\lib\\site-packages\\sklearn\\neural_network\\_multilayer_perceptron.py:614: ConvergenceWarning: Stochastic Optimizer: Maximum iterations (1000) reached and the optimization hasn't converged yet.\n",
      "  warnings.warn(\n"
     ]
    },
    {
     "name": "stdout",
     "output_type": "stream",
     "text": [
      "0.2\n",
      "Average score: 0.33125\n",
      "evaluating scores or metric = cosine\n",
      "0.8\n",
      "0.95\n",
      "0.875\n",
      "0.9\n",
      "0.85\n",
      "0.95\n",
      "0.9\n",
      "0.875\n",
      "Average score: 0.8875\n"
     ]
    }
   ],
   "source": [
    "for (name, clusterer) in [(\"euclidean\",euclidean), (\"minkowski\", minkowski), (\"cosine\",cosine)]:\n",
    "    \n",
    "    X_train_new = clusterer.fit_transform(X_train)\n",
    "    X_test_new = clusterer.fit_transform(X_test)\n",
    "    \n",
    "    clf_new = Pipeline([\n",
    "        (\"scaler\", StandardScaler()),\n",
    "        (\"nn\", MLPClassifier(solver='adam', activation='tanh',hidden_layer_sizes=(80,60,40,40), random_state=42,max_iter=1000))\n",
    "    ])\n",
    "    \n",
    "    print(f'evaluating scores or metric = {name}')\n",
    "    scores = []\n",
    "    for train_index, test_index in skf.split(X_train_new,y_train):\n",
    "        X_train_batch, X_test_batch = X_train_new[train_index], X_train_new[test_index]\n",
    "        y_train_batch, y_test_batch = y_train[train_index], y_train[test_index]\n",
    "        clf_new.fit(X_train_batch,y_train_batch)\n",
    "        pred = clf_new.predict(X_test_batch)\n",
    "        score = accuracy_score(y_test_batch, pred)\n",
    "        scores.append(score)\n",
    "        print(score)\n",
    "\n",
    "    print(f'Average score: {np.mean(scores)}')"
   ]
  },
  {
   "cell_type": "code",
   "execution_count": null,
   "id": "ac80b344",
   "metadata": {},
   "outputs": [],
   "source": []
  }
 ],
 "metadata": {
  "kernelspec": {
   "display_name": "Python 3",
   "language": "python",
   "name": "python3"
  },
  "language_info": {
   "codemirror_mode": {
    "name": "ipython",
    "version": 3
   },
   "file_extension": ".py",
   "mimetype": "text/x-python",
   "name": "python",
   "nbconvert_exporter": "python",
   "pygments_lexer": "ipython3",
   "version": "3.8.8"
  }
 },
 "nbformat": 4,
 "nbformat_minor": 5
}
